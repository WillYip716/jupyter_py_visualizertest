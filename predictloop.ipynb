{
 "cells": [
  {
   "cell_type": "code",
   "execution_count": 1,
   "metadata": {},
   "outputs": [],
   "source": [
    "import xgboost as xgb\n",
    "import numpy as np\n",
    "import json\n",
    "import pandas as pd# Used for Regression Modelling\n",
    "from sklearn.model_selection import train_test_split\n",
    "from sklearn.metrics import accuracy_score\n",
    "import pickle"
   ]
  },
  {
   "cell_type": "code",
   "execution_count": 28,
   "metadata": {},
   "outputs": [
    {
     "name": "stdout",
     "output_type": "stream",
     "text": [
      "{'index': 0, 'week': 1, 'vteam': 'HOU', 'hteam': 'KC', 'hcspread': -9.5, 'ouclose': 53.5, 'prediction': 'HOU +9.5', 'vcspread': '+9.5'}\n",
      "{'index': 4, 'week': 1, 'vteam': 'LV', 'hteam': 'CAR', 'hcspread': '+3.0', 'ouclose': 48.0, 'prediction': 'LV -3.0', 'vcspread': '-3.0'}\n"
     ]
    }
   ],
   "source": [
    "data = pd.read_csv('./data/merged_mldata2020v2.csv',delimiter = ',')\n",
    "with open(f'score_predictor.pkl', 'rb') as f:\n",
    "    model = pickle.load(f)\n",
    "\n",
    "outputs = []\n",
    "games = data.drop(columns =['vscore', 'hscore','winner','ou',\"sWinner\",\"fspread\",\"fscore\",\"vospread\",\"vcspread\"])\n",
    "games = pd.DataFrame(games)\n",
    "\n",
    "weekfilter = games['week'] == 1\n",
    "\n",
    "games = games[weekfilter]\n",
    "#print(games)\n",
    "columnheads = ['temp','wind_mph','vdflg','hdflg','divgame','nsite','hospread','ouopen','hcspread','ouclose','vTOTAL.DVOA','vTOTAL.RNK','vOFF.RNK','vOFF.DVOA','vDEF.RNK','vDEF.DVOA','vST.RNK','vST.DVOA','hTOTAL.DVOA','hTOTAL.RNK','hOFF.RNK','hOFF.DVOA','hDEF.RNK','hDEF.DVOA','hST.RNK','hST.DVOA','vtsw','vtsl','vtst','htsw','htsl','htst','vtw','vtl','vtt','vts','htw','htl','htt','hts']\n",
    "\n",
    "games = np.hsplit(games,[3])\n",
    "\n",
    "tw = games[0]\n",
    "pdata = games[1]\n",
    "\n",
    "\n",
    "\n",
    "input_variables = pd.DataFrame(pdata, columns = columnheads,dtype=float)\n",
    "\n",
    "#prediction = model.predict(input_variables)\n",
    "\n",
    "input_variables[\"prediction\"] = model.predict(input_variables)\n",
    "\n",
    "#print(prediction)\n",
    "#print(input_variables)\n",
    "\n",
    "output_info = input_variables[[\"hcspread\",\"ouclose\",\"prediction\"]]\n",
    "output_info = tw.join(output_info)\n",
    "\n",
    "output_info[\"vcspread\"] = np.where(output_info[\"hcspread\"] >= 0,\"-\" + output_info[\"hcspread\"].astype(str),output_info[\"hcspread\"].astype(str).str.replace(\"-\",\"+\"))\n",
    "output_info[\"hcspread\"] = np.where(output_info[\"hcspread\"] >= 0,\"+\" + output_info[\"hcspread\"].astype(str),output_info[\"hcspread\"])\n",
    "\n",
    "\n",
    "output_info[\"prediction\"] = np.where(output_info[\"prediction\"] < 0, output_info[\"vteam\"] +\" \"+ output_info[\"vcspread\"].astype(str) , output_info[\"hteam\"] +\" \"+ output_info[\"hcspread\"].astype(str))\n",
    "result = output_info.to_json(orient=\"table\")\n",
    "\n",
    "parsed = json.loads(result)\n",
    "\n",
    "#json.dumps(parsed, indent=10)  \n",
    "print(parsed[\"data\"][0])\n",
    "print(parsed[\"data\"][4])\n",
    "\n",
    "\n",
    "#for i in games.iterrows():\n",
    "    #prediction = {'vteam':i['vteam'],'hteam':i['hteam']}\n",
    "    #input_variables = x.drop(columns=['week','vteam','hteam'])\n",
    "    #prediction['outcome'] = model.predict(input_variables)[0]\n",
    "    #print(i['vteam'])\n",
    "\n",
    "\n",
    "#print(x)\n",
    "#print(teams)"
   ]
  },
  {
   "cell_type": "code",
   "execution_count": null,
   "metadata": {},
   "outputs": [],
   "source": []
  }
 ],
 "metadata": {
  "kernelspec": {
   "display_name": "Python 3",
   "language": "python",
   "name": "python3"
  },
  "language_info": {
   "codemirror_mode": {
    "name": "ipython",
    "version": 3
   },
   "file_extension": ".py",
   "mimetype": "text/x-python",
   "name": "python",
   "nbconvert_exporter": "python",
   "pygments_lexer": "ipython3",
   "version": "3.8.5"
  }
 },
 "nbformat": 4,
 "nbformat_minor": 4
}
