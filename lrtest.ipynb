{
 "cells": [
  {
   "cell_type": "code",
   "execution_count": 2,
   "metadata": {},
   "outputs": [],
   "source": [
    "# Used for data storage and manipulation \n",
    "import numpy as np\n",
    "import pandas as pd# Used for Regression Modelling\n",
    "from sklearn.linear_model import LinearRegression\n",
    "from sklearn import linear_model\n",
    "from sklearn.model_selection import train_test_split# Used for Acc metrics\n",
    "from sklearn.metrics import mean_squared_error\n",
    "from sklearn.metrics import r2_score# For stepwise regression\n",
    "import statsmodels.api as sm"
   ]
  },
  {
   "cell_type": "code",
   "execution_count": 6,
   "metadata": {},
   "outputs": [],
   "source": [
    "data = pd.read_csv('./data/merged_mldata2007-2019v2.csv',delimiter = ',')\n",
    "\n",
    "#data.corr()\n",
    "x = data.drop(columns =['vscore', 'hscore','winner','ou',\"sWinner\",\"fspread\",\"fscore\"])\n",
    "#x = data.drop(columns =['vscore', 'hscore','winner','ou',\"sWinner\",\"fspread\",\"fscore\",\"vospread\",\"hospread\",\"ouopen\",\"vcspread\",\"hcspread\",\"ouclose\"])\n",
    "y = data['fspread'] \n",
    "\n",
    "x = pd.DataFrame(x)\n",
    "y = pd.DataFrame(y)"
   ]
  },
  {
   "cell_type": "code",
   "execution_count": 7,
   "metadata": {},
   "outputs": [
    {
     "name": "stdout",
     "output_type": "stream",
     "text": [
      "      fspread  Predicted  Residuals\n",
      "1461       -6   4.693308   1.306692\n",
      "2146      -14  -1.023077  12.976923\n",
      "79          3  -3.744263  -0.744263\n",
      "2308        2   3.413686  -1.413686\n",
      "1143       16  -2.663403  13.336597\n",
      "...       ...        ...        ...\n",
      "2521       -3  -8.198529  -5.198529\n",
      "857        27   3.490514  23.509486\n",
      "203        20   5.427786  14.572214\n",
      "3138       10   5.836166   4.163834\n",
      "734       -19   8.507240  10.492760\n",
      "\n",
      "[660 rows x 3 columns]\n"
     ]
    },
    {
     "name": "stderr",
     "output_type": "stream",
     "text": [
      "<ipython-input-7-01118365f0ae>:17: SettingWithCopyWarning: \n",
      "A value is trying to be set on a copy of a slice from a DataFrame.\n",
      "Try using .loc[row_indexer,col_indexer] = value instead\n",
      "\n",
      "See the caveats in the documentation: https://pandas.pydata.org/pandas-docs/stable/user_guide/indexing.html#returning-a-view-versus-a-copy\n",
      "  df_results['Predicted'] = pred.ravel()\n",
      "<ipython-input-7-01118365f0ae>:18: SettingWithCopyWarning: \n",
      "A value is trying to be set on a copy of a slice from a DataFrame.\n",
      "Try using .loc[row_indexer,col_indexer] = value instead\n",
      "\n",
      "See the caveats in the documentation: https://pandas.pydata.org/pandas-docs/stable/user_guide/indexing.html#returning-a-view-versus-a-copy\n",
      "  df_results['Residuals'] = abs(df_results['fspread']) - abs(df_results['Predicted'])\n"
     ]
    }
   ],
   "source": [
    "x_train,x_test,y_train,y_test = train_test_split(x,y,test_size=0.2)\n",
    "\n",
    "#model = DecisionTreeClassifier()\n",
    "#model.fit(x_train,y_train)\n",
    "\n",
    "#predictions = model.predict(x_test)\n",
    "#score=accuracy_score(y_test,predictions)\n",
    "#score\n",
    "\n",
    "lin_reg_mod = LinearRegression()# Fit linear regression\n",
    "lin_reg_mod.fit(x_train, y_train)# Make prediction on the testing data\n",
    "pred = lin_reg_mod.predict(x_test)\n",
    "\n",
    "\n",
    "\n",
    "df_results = y_test\n",
    "df_results['Predicted'] = pred.ravel()\n",
    "df_results['Residuals'] = abs(df_results['fspread']) - abs(df_results['Predicted'])\n",
    "print(df_results)"
   ]
  },
  {
   "cell_type": "code",
   "execution_count": 13,
   "metadata": {},
   "outputs": [],
   "source": [
    "out = pd.DataFrame(data)\n",
    "output = out[out['hcspread'].isin([-3])&out['sWinner'].isin([1])]\n",
    "\n",
    "\n",
    "output.to_csv('testoutput.csv')"
   ]
  }
 ],
 "metadata": {
  "kernelspec": {
   "display_name": "Python 3",
   "language": "python",
   "name": "python3"
  },
  "language_info": {
   "codemirror_mode": {
    "name": "ipython",
    "version": 3
   },
   "file_extension": ".py",
   "mimetype": "text/x-python",
   "name": "python",
   "nbconvert_exporter": "python",
   "pygments_lexer": "ipython3",
   "version": "3.8.5"
  }
 },
 "nbformat": 4,
 "nbformat_minor": 4
}
