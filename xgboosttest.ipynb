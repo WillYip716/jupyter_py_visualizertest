{
 "cells": [
  {
   "cell_type": "code",
   "execution_count": 1,
   "metadata": {},
   "outputs": [
    {
     "data": {
      "text/plain": [
       "'1.3.1'"
      ]
     },
     "execution_count": 1,
     "metadata": {},
     "output_type": "execute_result"
    }
   ],
   "source": [
    "import xgboost as xgb\n",
    "import numpy as np\n",
    "import pandas as pd# Used for Regression Modelling\n",
    "from sklearn.model_selection import train_test_split\n",
    "from sklearn.metrics import accuracy_score\n",
    "\n",
    "xgb.__version__"
   ]
  },
  {
   "cell_type": "code",
   "execution_count": 7,
   "metadata": {},
   "outputs": [],
   "source": [
    "data = pd.read_csv('./data/merged_mldata2007-2019v2.csv',delimiter = ',')\n",
    "\n",
    "#data.corr()\n",
    "#x = data.drop(columns =['vscore', 'hscore','winner','ou',\"sWinner\",\"fspread\",\"fscore\"])\n",
    "x = data.drop(columns =['vscore', 'hscore','winner','ou',\"sWinner\",\"fspread\",\"fscore\",\"hospread\",\"ouopen\",\"hcspread\",\"ouclose\"])\n",
    "y = data['sWinner'] \n",
    "\n",
    "x = pd.DataFrame(x)\n",
    "y = pd.DataFrame(y)\n"
   ]
  },
  {
   "cell_type": "code",
   "execution_count": 10,
   "metadata": {},
   "outputs": [
    {
     "name": "stderr",
     "output_type": "stream",
     "text": [
      "/home/william/anaconda3/lib/python3.8/site-packages/xgboost/sklearn.py:892: UserWarning: The use of label encoder in XGBClassifier is deprecated and will be removed in a future release. To remove this warning, do the following: 1) Pass option use_label_encoder=False when constructing XGBClassifier object; and 2) Encode your labels (y) as integers starting with 0, i.e. 0, 1, 2, ..., [num_class - 1].\n",
      "  warnings.warn(label_encoder_deprecation_msg, UserWarning)\n",
      "/home/william/anaconda3/lib/python3.8/site-packages/sklearn/utils/validation.py:72: DataConversionWarning: A column-vector y was passed when a 1d array was expected. Please change the shape of y to (n_samples, ), for example using ravel().\n",
      "  return f(**kwargs)\n"
     ]
    },
    {
     "name": "stdout",
     "output_type": "stream",
     "text": [
      "[18:28:08] WARNING: ../src/learner.cc:1061: Starting in XGBoost 1.3.0, the default evaluation metric used with the objective 'multi:softprob' was changed from 'merror' to 'mlogloss'. Explicitly set eval_metric if you'd like to restore the old behavior.\n",
      "      sWinner  Predicted  Residuals\n",
      "2835       -1          1          0\n",
      "1157       -1         -1          0\n",
      "860         1         -1          0\n",
      "461         1          1          0\n",
      "2028        1          1          0\n",
      "...       ...        ...        ...\n",
      "602        -1          1          0\n",
      "1154       -1         -1          0\n",
      "18          1          1          0\n",
      "3067       -1         -1          0\n",
      "1304        0         -1         -1\n",
      "\n",
      "[660 rows x 3 columns]\n",
      "0.5136363636363637\n"
     ]
    },
    {
     "name": "stderr",
     "output_type": "stream",
     "text": [
      "<ipython-input-10-235da056a798>:14: SettingWithCopyWarning: \n",
      "A value is trying to be set on a copy of a slice from a DataFrame.\n",
      "Try using .loc[row_indexer,col_indexer] = value instead\n",
      "\n",
      "See the caveats in the documentation: https://pandas.pydata.org/pandas-docs/stable/user_guide/indexing.html#returning-a-view-versus-a-copy\n",
      "  df_results['Predicted'] = preds.ravel()\n",
      "<ipython-input-10-235da056a798>:15: SettingWithCopyWarning: \n",
      "A value is trying to be set on a copy of a slice from a DataFrame.\n",
      "Try using .loc[row_indexer,col_indexer] = value instead\n",
      "\n",
      "See the caveats in the documentation: https://pandas.pydata.org/pandas-docs/stable/user_guide/indexing.html#returning-a-view-versus-a-copy\n",
      "  df_results['Residuals'] = abs(df_results['sWinner']) - abs(df_results['Predicted'])\n"
     ]
    }
   ],
   "source": [
    "x_train,x_test,y_train,y_test = train_test_split(x,y,test_size=0.2)\n",
    "\n",
    "dtrain = xgb.DMatrix(data)\n",
    "\n",
    "xg_cl = xgb.XGBClassifier(objective='binary:logistic',n_estimators=100)\n",
    "xg_cl.fit(x_train,y_train)\n",
    "\n",
    "preds = xg_cl.predict(x_test)\n",
    "#accuracy = float(np.sum(preds==y_test))/y_test.shape[0]\n",
    "\n",
    "score=accuracy_score(y_test,preds)\n",
    "\n",
    "df_results = y_test\n",
    "df_results['Predicted'] = preds.ravel()\n",
    "df_results['Residuals'] = abs(df_results['sWinner']) - abs(df_results['Predicted'])\n",
    "print(df_results)\n",
    "\n",
    "print(score)"
   ]
  }
 ],
 "metadata": {
  "kernelspec": {
   "display_name": "Python 3",
   "language": "python",
   "name": "python3"
  },
  "language_info": {
   "codemirror_mode": {
    "name": "ipython",
    "version": 3
   },
   "file_extension": ".py",
   "mimetype": "text/x-python",
   "name": "python",
   "nbconvert_exporter": "python",
   "pygments_lexer": "ipython3",
   "version": "3.8.5"
  }
 },
 "nbformat": 4,
 "nbformat_minor": 4
}
