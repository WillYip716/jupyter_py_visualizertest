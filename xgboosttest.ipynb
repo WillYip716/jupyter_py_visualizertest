{
 "cells": [
  {
   "cell_type": "code",
   "execution_count": 1,
   "metadata": {},
   "outputs": [
    {
     "data": {
      "text/plain": [
       "'1.3.1'"
      ]
     },
     "execution_count": 1,
     "metadata": {},
     "output_type": "execute_result"
    }
   ],
   "source": [
    "import xgboost as xgb\n",
    "import numpy as np\n",
    "import pandas as pd# Used for Regression Modelling\n",
    "from sklearn.model_selection import train_test_split\n",
    "from sklearn.metrics import accuracy_score\n",
    "import pickle\n",
    "\n",
    "xgb.__version__"
   ]
  },
  {
   "cell_type": "code",
   "execution_count": 4,
   "metadata": {},
   "outputs": [],
   "source": [
    "data = pd.read_csv('./data/merged_mldata2007-2019v2.csv',delimiter = ',')\n",
    "\n",
    "#data.corr()\n",
    "x = data.drop(columns =['vscore', 'hscore','winner','ou',\"sWinner\",\"fspread\",\"fscore\"])\n",
    "#x = data.drop(columns =['vscore', 'hscore','winner','ou',\"sWinner\",\"fspread\",\"fscore\",\"hospread\",\"ouopen\",\"hcspread\",\"ouclose\"])\n",
    "#x = data.drop(columns =['vscore', 'hscore','winner','ou',\"sWinner\",\"fspread\",\"fscore\",\"hospread\",\"hcspread\"])\n",
    "y = data['vscore'] \n",
    "\n",
    "x = pd.DataFrame(x)\n",
    "\n",
    "\n",
    "y = pd.DataFrame(y)\n"
   ]
  },
  {
   "cell_type": "code",
   "execution_count": 5,
   "metadata": {},
   "outputs": [
    {
     "name": "stderr",
     "output_type": "stream",
     "text": [
      "/home/william/anaconda3/lib/python3.8/site-packages/xgboost/sklearn.py:892: UserWarning: The use of label encoder in XGBClassifier is deprecated and will be removed in a future release. To remove this warning, do the following: 1) Pass option use_label_encoder=False when constructing XGBClassifier object; and 2) Encode your labels (y) as integers starting with 0, i.e. 0, 1, 2, ..., [num_class - 1].\n",
      "  warnings.warn(label_encoder_deprecation_msg, UserWarning)\n",
      "/home/william/anaconda3/lib/python3.8/site-packages/sklearn/utils/validation.py:72: DataConversionWarning: A column-vector y was passed when a 1d array was expected. Please change the shape of y to (n_samples, ), for example using ravel().\n",
      "  return f(**kwargs)\n"
     ]
    },
    {
     "name": "stdout",
     "output_type": "stream",
     "text": [
      "[18:53:15] WARNING: ../src/learner.cc:1061: Starting in XGBoost 1.3.0, the default evaluation metric used with the objective 'multi:softprob' was changed from 'merror' to 'mlogloss'. Explicitly set eval_metric if you'd like to restore the old behavior.\n"
     ]
    },
    {
     "name": "stderr",
     "output_type": "stream",
     "text": [
      "<ipython-input-5-c25c64db1d04>:16: SettingWithCopyWarning: \n",
      "A value is trying to be set on a copy of a slice from a DataFrame.\n",
      "Try using .loc[row_indexer,col_indexer] = value instead\n",
      "\n",
      "See the caveats in the documentation: https://pandas.pydata.org/pandas-docs/stable/user_guide/indexing.html#returning-a-view-versus-a-copy\n",
      "  df_results['Predicted'] = preds.ravel()\n",
      "<ipython-input-5-c25c64db1d04>:17: SettingWithCopyWarning: \n",
      "A value is trying to be set on a copy of a slice from a DataFrame.\n",
      "Try using .loc[row_indexer,col_indexer] = value instead\n",
      "\n",
      "See the caveats in the documentation: https://pandas.pydata.org/pandas-docs/stable/user_guide/indexing.html#returning-a-view-versus-a-copy\n",
      "  df_results['Residuals'] = abs(df_results['vscore']) - abs(df_results['Predicted'])\n"
     ]
    },
    {
     "name": "stdout",
     "output_type": "stream",
     "text": [
      "      vscore  Predicted  Residuals\n",
      "1642       7         20        -13\n",
      "1486      20         10         10\n",
      "2522      32         17         15\n",
      "3042      27         24          3\n",
      "3102       3         31        -28\n",
      "...      ...        ...        ...\n",
      "690       27          7         20\n",
      "440       16         31        -15\n",
      "3023      14         33        -19\n",
      "1250      14         17         -3\n",
      "2532      30         38         -8\n",
      "\n",
      "[330 rows x 3 columns]\n",
      "       0\n",
      "1642 -13\n",
      "1486  10\n",
      "2522  15\n",
      "3042   3\n",
      "3102 -28\n",
      "...   ..\n",
      "690   20\n",
      "440  -15\n",
      "3023 -19\n",
      "1250  -3\n",
      "2532  -8\n",
      "\n",
      "[330 rows x 1 columns]\n",
      "0    11.951725\n",
      "dtype: float64\n",
      "0.04242424242424243\n"
     ]
    }
   ],
   "source": [
    "x_train,x_test,y_train,y_test = train_test_split(x,y,test_size=0.1)\n",
    "\n",
    "dtrain = xgb.DMatrix(data)\n",
    "\n",
    "\n",
    "xg_cl = xgb.XGBClassifier(objective='binary:logistic',n_estimators=100)\n",
    "#xg_cl = xgb.XGBClassifier(objective='reg:linear',n_estimators=100)\n",
    "xg_cl.fit(x_train,y_train)\n",
    "\n",
    "preds = xg_cl.predict(x_test)\n",
    "#accuracy = float(np.sum(preds==y_test))/y_test.shape[0]\n",
    "\n",
    "score=accuracy_score(y_test,preds)\n",
    "\n",
    "df_results = y_test\n",
    "df_results['Predicted'] = preds.ravel()\n",
    "df_results['Residuals'] = abs(df_results['vscore']) - abs(df_results['Predicted'])\n",
    "devi = pd.DataFrame(abs(df_results['vscore']) - abs(df_results['Predicted']))\n",
    "print(df_results)\n",
    "print(devi)\n",
    "devi = devi.std()\n",
    "print(devi)\n",
    "\n",
    "print(score)\n",
    "\n",
    "with open('visitor.pkl', 'wb') as file:\n",
    "   pickle.dump(xg_cl, file)"
   ]
  }
 ],
 "metadata": {
  "kernelspec": {
   "display_name": "Python 3",
   "language": "python",
   "name": "python3"
  },
  "language_info": {
   "codemirror_mode": {
    "name": "ipython",
    "version": 3
   },
   "file_extension": ".py",
   "mimetype": "text/x-python",
   "name": "python",
   "nbconvert_exporter": "python",
   "pygments_lexer": "ipython3",
   "version": "3.8.5"
  }
 },
 "nbformat": 4,
 "nbformat_minor": 4
}
